{
 "cells": [
  {
   "cell_type": "markdown",
   "metadata": {},
   "source": [
    "Q-1. A university wants to understand the relationship between the SAT scores of its\n",
    "applicants and their college GPA. They collect data on 500 students, including their SAT\n",
    "scores (out of 1600) and their college GPA (on a 4.0 scale). They find that the correlation\n",
    "coefficient between SAT scores and college GPA is 0.7. What does this correlation\n",
    "coefficient indicate about the relationship between SAT scores and college GPA?"
   ]
  },
  {
   "cell_type": "markdown",
   "metadata": {},
   "source": [
    "Answer :\n",
    "The correlation coefficient between SAT scores and college GPA of 0.7 indicates a strong positive relationship between the two variables.\n",
    "A correlation coefficient measures the strength and direction of the linear relationship between two variables. The value of the correlation coefficient ranges from -1 to +1. A positive value indicates a positive relationship, while a negative value indicates a negative relationship. The absolute value of the correlation coefficient represents the strength of the relationship, with values closer to 1 indicating a stronger relationship.\n",
    "\n",
    "In this case, a correlation coefficient of 0.7 suggests a strong positive relationship between SAT scores and college GPA. This means that as SAT scores increase, the college GPA tends to increase as well. The closer the correlation coefficient is to +1, the stronger the positive relationship between the variables. However, it's important to note that correlation does not imply causation, and there may be other factors influencing the college GPA that are not captured in the SAT scores."
   ]
  },
  {
   "cell_type": "markdown",
   "metadata": {},
   "source": [
    "Q-2. Consider a dataset containing the heights (in centimeters) of 1000 individuals. The\n",
    "mean height is 170 cm with a standard deviation of 10 cm. The dataset is approximately\n",
    "normally distributed, and its skewness is approximately zero. Based on this information,\n",
    "answer the following questions:\n",
    "a. What percentage of individuals in the dataset have heights between 160 cm\n",
    "and 180 cm?\n",
    "b. If we randomly select 100 individuals from the dataset, what is the probability\n",
    "that their average height is greater than 175 cm?\n",
    "c. Assuming the dataset follows a normal distribution, what is the z-score\n",
    "corresponding to a height of 185 cm?\n",
    "d. We know that 5% of the dataset has heights below a certain value. What is\n",
    "the approximate height corresponding to this threshold?\n",
    "e. Calculate the coefficient of variation (CV) for the dataset.\n",
    "f. Calculate the skewness of the dataset and interpret the result."
   ]
  },
  {
   "cell_type": "markdown",
   "metadata": {},
   "source": [
    "a. To find the percentage of individuals in the dataset with heights between 160 cm and 180 cm, we need to calculate the z-scores for these heights and use the standard normal distribution table.\n",
    "\n",
    "The z-score formula is:\n",
    "z = (x - μ) / σ\n",
    "\n",
    "where:\n",
    "x is the height,\n",
    "μ is the mean height,\n",
    "σ is the standard deviation.\n",
    "\n",
    "For 160 cm:\n",
    "z1 = (160 - 170) / 10 = -1\n",
    "\n",
    "For 180 cm:\n",
    "z2 = (180 - 170) / 10 = 1\n",
    "\n",
    "Using the standard normal distribution table, we can find the corresponding probabilities:\n",
    "P(-1 < Z < 1) = P(Z < 1) - P(Z < -1)\n",
    "\n",
    "Look up the values in the Z-table:\n",
    "P(Z < 1) ≈ 0.8413\n",
    "P(Z < -1) ≈ 0.1587\n",
    "\n",
    "P(-1 < Z < 1) ≈ 0.8413 - 0.1587 = 0.6826\n",
    "\n",
    "Therefore, approximately 68.26% of individuals in the dataset have heights between 160 cm and 180 cm.\n",
    "\n",
    "b. The average height of a sample of 100 individuals will also follow a normal distribution with the same mean but a standard deviation of σ/sqrt(n), where n is the sample size. In this case, n = 100.\n",
    "\n",
    "The z-score for an average height of 175 cm can be calculated as:\n",
    "z = (x - μ) / (σ / sqrt(n))\n",
    "= (175 - 170) / (10 / sqrt(100))\n",
    "= 5 / 1 = 5\n",
    "\n",
    "We want to find the probability that the z-score is greater than 5, which is very close to 0. According to the standard normal distribution table, the probability is approximately 0.\n",
    "\n",
    "Therefore, the probability that the average height of a randomly selected sample of 100 individuals is greater than 175 cm is approximately 0.\n",
    "\n",
    "c. To calculate the z-score corresponding to a height of 185 cm, we can use the same formula as in part a:\n",
    "\n",
    "z = (x - μ) / σ\n",
    "= (185 - 170) / 10\n",
    "= 15 / 10\n",
    "= 1.5\n",
    "\n",
    "Therefore, the z-score corresponding to a height of 185 cm is 1.5.\n",
    "\n",
    "d. We know that 5% of the dataset has heights below a certain value. This corresponds to the z-score that encloses the lower 5% of the standard normal distribution.\n",
    "\n",
    "Using the standard normal distribution table, we find that the z-score for a lower tail probability of 0.05 is approximately -1.645.\n",
    "\n",
    "To find the height corresponding to this z-score, we can use the formula:\n",
    "\n",
    "x = μ + (z * σ)\n",
    "= 170 + (-1.645 * 10)\n",
    "≈ 170 - 16.45\n",
    "≈ 153.55\n",
    "\n",
    "Therefore, the approximate height corresponding to the threshold where 5% of the dataset has heights below it is approximately 153.55 cm.\n",
    "\n",
    "e. The coefficient of variation (CV) is calculated as the ratio of the standard deviation to the mean, multiplied by 100 to express it as a percentage:\n",
    "\n",
    "CV = (σ / μ) * 100\n",
    "= (10 / 170) * 100\n",
    "≈ 5.88%\n",
    "\n",
    "Therefore, the coefficient of variation for the dataset is approximately 5.88%.\n",
    "\n",
    "f. \n",
    "Given the following information:\n",
    "Mean height: 170 cm\n",
    "Standard deviation: 10 cm\n",
    "Skewness: Approximately zero\n",
    "\n",
    "Since the dataset is approximately normally distributed and the skewness is approximately zero, we can assume that the mean, median, and mode are all very close to each other. In a normal distribution, the mean, median, and mode are all equal.\n",
    "\n",
    "When the skewness is close to zero, it indicates that the dataset is symmetrically distributed. This means that the data points are evenly distributed around the mean, forming a symmetric bell-shaped curve.\n",
    "\n",
    "In the case of the given dataset, a skewness of approximately zero suggests that the heights of the 1000 individuals are symmetrically distributed around the mean height of 170 cm. This means that there is an equal probability of finding individuals with heights above or below the mean, resulting in a symmetrical distribution.\n"
   ]
  },
  {
   "cell_type": "markdown",
   "metadata": {},
   "source": [
    "Q-3. Consider the ‘Blood Pressure Before’ and ‘Blood Pressure After’ columns from the\n",
    "data and calculate the following\n",
    "https://drive.google.com/file/d/1mCjtYHiX--mMUjicuaP2gH3k-SnFxt8Y/view?usp=share_\n",
    "a. Measure the dispersion in both and interpret the results.\n",
    "b. Calculate mean and 5% confidence interval and plot it in a graph\n",
    "c. Calculate the Mean absolute deviation and Standard deviation and interpret\n",
    "the results.\n",
    "d. Calculate the correlation coefficient and check the significance of it at 1% level\n",
    "of significance."
   ]
  },
  {
   "cell_type": "code",
   "execution_count": 1,
   "metadata": {},
   "outputs": [],
   "source": [
    "import pandas as pd\n",
    "import numpy as np\n",
    "import matplotlib.pyplot as plt\n",
    "import scipy.stats as stats"
   ]
  },
  {
   "cell_type": "code",
   "execution_count": 4,
   "metadata": {},
   "outputs": [],
   "source": [
    "data = pd.read_csv(r\"C:\\Users\\aru78\\INEURON DATA\\EDA Collection\\data.csv\")"
   ]
  },
  {
   "cell_type": "code",
   "execution_count": 5,
   "metadata": {},
   "outputs": [
    {
     "data": {
      "text/html": [
       "<div>\n",
       "<style scoped>\n",
       "    .dataframe tbody tr th:only-of-type {\n",
       "        vertical-align: middle;\n",
       "    }\n",
       "\n",
       "    .dataframe tbody tr th {\n",
       "        vertical-align: top;\n",
       "    }\n",
       "\n",
       "    .dataframe thead th {\n",
       "        text-align: right;\n",
       "    }\n",
       "</style>\n",
       "<table border=\"1\" class=\"dataframe\">\n",
       "  <thead>\n",
       "    <tr style=\"text-align: right;\">\n",
       "      <th></th>\n",
       "      <th>Patient ID</th>\n",
       "      <th>Blood Pressure Before (mmHg)</th>\n",
       "      <th>Blood Pressure After (mmHg)</th>\n",
       "    </tr>\n",
       "  </thead>\n",
       "  <tbody>\n",
       "    <tr>\n",
       "      <th>0</th>\n",
       "      <td>1</td>\n",
       "      <td>130</td>\n",
       "      <td>120</td>\n",
       "    </tr>\n",
       "    <tr>\n",
       "      <th>1</th>\n",
       "      <td>2</td>\n",
       "      <td>142</td>\n",
       "      <td>135</td>\n",
       "    </tr>\n",
       "    <tr>\n",
       "      <th>2</th>\n",
       "      <td>3</td>\n",
       "      <td>120</td>\n",
       "      <td>118</td>\n",
       "    </tr>\n",
       "    <tr>\n",
       "      <th>3</th>\n",
       "      <td>4</td>\n",
       "      <td>135</td>\n",
       "      <td>127</td>\n",
       "    </tr>\n",
       "    <tr>\n",
       "      <th>4</th>\n",
       "      <td>5</td>\n",
       "      <td>148</td>\n",
       "      <td>140</td>\n",
       "    </tr>\n",
       "    <tr>\n",
       "      <th>...</th>\n",
       "      <td>...</td>\n",
       "      <td>...</td>\n",
       "      <td>...</td>\n",
       "    </tr>\n",
       "    <tr>\n",
       "      <th>95</th>\n",
       "      <td>96</td>\n",
       "      <td>136</td>\n",
       "      <td>129</td>\n",
       "    </tr>\n",
       "    <tr>\n",
       "      <th>96</th>\n",
       "      <td>97</td>\n",
       "      <td>143</td>\n",
       "      <td>137</td>\n",
       "    </tr>\n",
       "    <tr>\n",
       "      <th>97</th>\n",
       "      <td>98</td>\n",
       "      <td>127</td>\n",
       "      <td>123</td>\n",
       "    </tr>\n",
       "    <tr>\n",
       "      <th>98</th>\n",
       "      <td>99</td>\n",
       "      <td>139</td>\n",
       "      <td>135</td>\n",
       "    </tr>\n",
       "    <tr>\n",
       "      <th>99</th>\n",
       "      <td>100</td>\n",
       "      <td>135</td>\n",
       "      <td>130</td>\n",
       "    </tr>\n",
       "  </tbody>\n",
       "</table>\n",
       "<p>100 rows × 3 columns</p>\n",
       "</div>"
      ],
      "text/plain": [
       "    Patient ID   Blood Pressure Before (mmHg)   Blood Pressure After (mmHg)\n",
       "0            1                            130                           120\n",
       "1            2                            142                           135\n",
       "2            3                            120                           118\n",
       "3            4                            135                           127\n",
       "4            5                            148                           140\n",
       "..         ...                            ...                           ...\n",
       "95          96                            136                           129\n",
       "96          97                            143                           137\n",
       "97          98                            127                           123\n",
       "98          99                            139                           135\n",
       "99         100                            135                           130\n",
       "\n",
       "[100 rows x 3 columns]"
      ]
     },
     "execution_count": 5,
     "metadata": {},
     "output_type": "execute_result"
    }
   ],
   "source": [
    "data"
   ]
  },
  {
   "cell_type": "code",
   "execution_count": 10,
   "metadata": {},
   "outputs": [
    {
     "data": {
      "text/plain": [
       "Index(['Patient ID', ' Blood Pressure Before (mmHg)',\n",
       "       ' Blood Pressure After (mmHg)'],\n",
       "      dtype='object')"
      ]
     },
     "execution_count": 10,
     "metadata": {},
     "output_type": "execute_result"
    }
   ],
   "source": [
    "data.columns"
   ]
  },
  {
   "cell_type": "markdown",
   "metadata": {},
   "source": [
    "a. Measure the dispersion in both and interpret the results."
   ]
  },
  {
   "cell_type": "code",
   "execution_count": 18,
   "metadata": {},
   "outputs": [],
   "source": [
    "dispersion_before = data[' Blood Pressure Before (mmHg)'].std()\n"
   ]
  },
  {
   "cell_type": "code",
   "execution_count": 19,
   "metadata": {},
   "outputs": [
    {
     "data": {
      "text/plain": [
       "6.598278012275075"
      ]
     },
     "execution_count": 19,
     "metadata": {},
     "output_type": "execute_result"
    }
   ],
   "source": [
    "dispersion_before"
   ]
  },
  {
   "cell_type": "code",
   "execution_count": 20,
   "metadata": {},
   "outputs": [],
   "source": [
    "dispersion_after = data[' Blood Pressure After (mmHg)'].std()"
   ]
  },
  {
   "cell_type": "code",
   "execution_count": 21,
   "metadata": {},
   "outputs": [
    {
     "data": {
      "text/plain": [
       "6.8880221025232276"
      ]
     },
     "execution_count": 21,
     "metadata": {},
     "output_type": "execute_result"
    }
   ],
   "source": [
    "dispersion_after"
   ]
  },
  {
   "cell_type": "code",
   "execution_count": null,
   "metadata": {},
   "outputs": [],
   "source": [
    "# Dispersion represents the variability or spread of data points around the mean.\n",
    "# The standard deviation is a measure of dispersion, and higher values indicate greater variability in the data.\n",
    "# Therefore, larger values of dispersion indicate greater variability in blood pressure results."
   ]
  },
  {
   "cell_type": "markdown",
   "metadata": {},
   "source": [
    "b. Calculate mean and 5% confidence interval and plot it in a graph"
   ]
  },
  {
   "cell_type": "code",
   "execution_count": 22,
   "metadata": {},
   "outputs": [
    {
     "data": {
      "image/png": "[encoded data removed]",
      "text/plain": [
       "<Figure size 432x288 with 1 Axes>"
      ]
     },
     "metadata": {
      "needs_background": "light"
     },
     "output_type": "display_data"
    }
   ],
   "source": [
    "mean_before = data[' Blood Pressure Before (mmHg)'].mean()\n",
    "mean_after = data[' Blood Pressure After (mmHg)'].mean()\n",
    "\n",
    "confidence_interval_before = stats.norm.interval(0.95, loc=mean_before, scale=dispersion_before/np.sqrt(len(data)))\n",
    "confidence_interval_after = stats.norm.interval(0.95, loc=mean_after, scale=dispersion_after/np.sqrt(len(data)))\n",
    "\n",
    "# Plotting the mean and confidence intervals\n",
    "plt.bar(['Before', 'After'], [mean_before, mean_after], yerr=[(mean_before-confidence_interval_before[0]), (mean_after-confidence_interval_after[0])])\n",
    "plt.xlabel('Time')\n",
    "plt.ylabel('Mean Blood Pressure')\n",
    "plt.title('Mean Blood Pressure Before and After')\n",
    "plt.show()"
   ]
  },
  {
   "cell_type": "markdown",
   "metadata": {},
   "source": [
    "c. Calculate the Mean absolute deviation and Standard deviation and interpret\n",
    "the results."
   ]
  },
  {
   "cell_type": "code",
   "execution_count": 23,
   "metadata": {},
   "outputs": [],
   "source": [
    "mad_before = data[' Blood Pressure Before (mmHg)'].mad()\n",
    "mad_after = data[' Blood Pressure After (mmHg)'].mad()\n",
    "\n",
    "std_before = data[' Blood Pressure Before (mmHg)'].std()\n",
    "std_after = data[' Blood Pressure After (mmHg)'].std()\n"
   ]
  },
  {
   "cell_type": "code",
   "execution_count": 24,
   "metadata": {},
   "outputs": [
    {
     "name": "stdout",
     "output_type": "stream",
     "text": [
      "Mean Absolute Deviation before : 5.7118\n",
      "Mean Absolute Deviation After : 5.9\n",
      "Standard Deviation Before  : 6.598278012275075\n",
      "Standard Deviation After  : 6.8880221025232276\n"
     ]
    }
   ],
   "source": [
    "print(f\"Mean Absolute Deviation before : {mad_before}\")\n",
    "print(f\"Mean Absolute Deviation After : {mad_after}\")\n",
    "print(f\"Standard Deviation Before  : {std_before}\")\n",
    "print(f\"Standard Deviation After  : {std_after}\")"
   ]
  },
  {
   "cell_type": "markdown",
   "metadata": {},
   "source": [
    "#Interpretation of results:\n",
    "#If the MAD < SD, there can be outliers or it can be said it is a skewed distribution .\n",
    "#If MAD and SD are similar, it indicates relatively symmetric distribution without significant outliers."
   ]
  },
  {
   "cell_type": "markdown",
   "metadata": {},
   "source": [
    "d. Calculate the correlation coefficient and check the significance of it at 1% level\n",
    "of significance."
   ]
  },
  {
   "cell_type": "code",
   "execution_count": 25,
   "metadata": {},
   "outputs": [],
   "source": [
    "correlation_coefficient, p_value = stats.pearsonr(data[' Blood Pressure Before (mmHg)'], data[' Blood Pressure After (mmHg)'])\n",
    "\n",
    "# Interpretation of results:\n",
    "# The correlation coefficient measures the strength and direction of the linear relationship between two variables.\n",
    "# A positive correlation coefficient indicates a positive relationship, while a negative coefficient indicates a negative relationship.\n",
    "# The magnitude of the correlation coefficient represents the strength of the relationship, ranging from -1 to +1.\n",
    "# The p-value measures the statistical significance of the correlation coefficient.\n",
    "# At the 1% significance level (α=0.01), if the p"
   ]
  },
  {
   "cell_type": "code",
   "execution_count": 26,
   "metadata": {},
   "outputs": [
    {
     "name": "stdout",
     "output_type": "stream",
     "text": [
      "Correlation Coefficient : 0.9779485966556021\n",
      "P-value : 1.8097381433059708e-68\n"
     ]
    }
   ],
   "source": [
    "print(f\"Correlation Coefficient : {correlation_coefficient}\")\n",
    "print(f\"P-value : {p_value}\")"
   ]
  },
  {
   "cell_type": "code",
   "execution_count": null,
   "metadata": {},
   "outputs": [],
   "source": [
    "#It can be seen there is positive relationship between the two variables\n",
    "#At significance level = 0.01 \n",
    "#p-value < 0.01 ,So we reject null "
   ]
  },
  {
   "cell_type": "markdown",
   "metadata": {},
   "source": [
    "Q-4. A group of 20 friends decide to play a game in which they each write a number\n",
    "between 1 and 20 on a slip of paper and put it into a hat. They then draw one slip of paper\n",
    "at random. What is the probability that the number on the slip of paper is a perfect square\n",
    "(i.e., 1, 4, 9, or 16)?"
   ]
  },
  {
   "cell_type": "markdown",
   "metadata": {},
   "source": [
    "Answer:\n",
    "Total number of possible outcomes: 20\n",
    "\n",
    "Number of favorable outcomes:\n",
    "Out of the numbers 1 to 20, there are four perfect square numbers: 1, 4, 9, and 16. Therefore, the number of favorable outcomes is 4.\n",
    "\n",
    "Probability calculation:\n",
    "Probability = Number of favorable outcomes / Total number of possible outcomes\n",
    "\n",
    "Probability = 4 / 20 = 1 / 5 = 0.2 = 20%\n",
    "\n",
    "So, the probability that the number on the slip of paper drawn from the hat is a perfect square is 0.2 or 20%."
   ]
  },
  {
   "cell_type": "markdown",
   "metadata": {},
   "source": [
    "Q-5. A certain city has two taxi companies: Company A has 80% of the taxis and\n",
    "Company B has 20% of the taxis. Company A's taxis have a 95% success rate for picking\n",
    "up passengers on time, while Company B's taxis have a 90% success rate. If a randomly\n",
    "selected taxi is late, what is the probability that it belongs to Company A?"
   ]
  },
  {
   "cell_type": "markdown",
   "metadata": {},
   "source": [
    "Answer:We can use Bayes' theorem here\n",
    "\n",
    "Let's define the events:\n",
    "A = Taxi belongs to Company A\n",
    "B = Taxi is late\n",
    "\n",
    "We are given the following probabilities:\n",
    "P(A) = 0.8 (Company A has 80% of the taxis)\n",
    "P(B|A) = 0.05 (Company A's taxis have a 95% success rate, so the probability of being late is 1 - 0.95 = 0.05)\n",
    "P(B|not A) = 0.1 (Company B's taxis have a 90% success rate, so the probability of being late is 1 - 0.9 = 0.1)\n",
    "\n",
    "We need to calculate P(A|B), which represents the probability that a taxi belongs to Company A given that it is late.\n",
    "\n",
    "Using Bayes' theorem:\n",
    "P(A|B) = (P(B|A) * P(A)) / P(B)\n",
    "\n",
    "P(B) can be calculated using the law of total probability:\n",
    "P(B) = P(B|A) * P(A) + P(B|not A) * P(not A)\n",
    "\n",
    "P(not A) = 1 - P(A) (Probability that the taxi does not belong to Company A)\n",
    "\n",
    "Substituting the values:\n",
    "P(B) = (0.05 * 0.8) + (0.1 * 0.2)\n",
    "P(not A) = 1 - 0.8\n",
    "\n",
    "Now we can calculate P(A|B):\n",
    "P(A|B) = (0.05 * 0.8) / [(0.05 * 0.8) + (0.1 * 0.2)]\n",
    "\n",
    "Simplifying the expression, we get:\n",
    "P(A|B) = 0.04 / (0.04 + 0.02)\n",
    "\n",
    "P(A|B) = 0.04 / 0.06\n",
    "\n",
    "P(A|B) = 0.6667\n",
    "\n",
    "So, the probability that a randomly selected taxi, which is late, belongs to Company A is approximately 0.6667 or 66.67%."
   ]
  },
  {
   "cell_type": "markdown",
   "metadata": {},
   "source": [
    "Q-6. A pharmaceutical company is developing a drug that is supposed to reduce blood\n",
    "pressure. They conduct a clinical trial with 100 patients and record their blood\n",
    "pressure before and after taking the drug. The company wants to know if the change\n",
    "in blood pressure follows a normal distribution.\n",
    "Link :https://drive.google.com/file/d/1mCjtYHiX--mMUjicuaP2gH3k-SnFxt8Y/view?usp=share_"
   ]
  },
  {
   "cell_type": "markdown",
   "metadata": {},
   "source": [
    "To determine if the change in blood pressure follows a normal distribution, we can perform a normality test on the dataset using statistical methods such as the Shapiro-Wilk test or the Kolmogorov-Smirnov test. These tests assess whether the data significantly deviates from a normal distribution.\n"
   ]
  },
  {
   "cell_type": "code",
   "execution_count": 28,
   "metadata": {},
   "outputs": [],
   "source": [
    "import pandas as pd\n",
    "from scipy.stats import shapiro\n",
    "\n",
    "# Read the dataset\n",
    "data = pd.read_csv(r\"C:\\Users\\aru78\\INEURON DATA\\EDA Collection\\data.csv\")\n"
   ]
  },
  {
   "cell_type": "code",
   "execution_count": 29,
   "metadata": {},
   "outputs": [
    {
     "data": {
      "text/html": [
       "<div>\n",
       "<style scoped>\n",
       "    .dataframe tbody tr th:only-of-type {\n",
       "        vertical-align: middle;\n",
       "    }\n",
       "\n",
       "    .dataframe tbody tr th {\n",
       "        vertical-align: top;\n",
       "    }\n",
       "\n",
       "    .dataframe thead th {\n",
       "        text-align: right;\n",
       "    }\n",
       "</style>\n",
       "<table border=\"1\" class=\"dataframe\">\n",
       "  <thead>\n",
       "    <tr style=\"text-align: right;\">\n",
       "      <th></th>\n",
       "      <th>Patient ID</th>\n",
       "      <th>Blood Pressure Before (mmHg)</th>\n",
       "      <th>Blood Pressure After (mmHg)</th>\n",
       "    </tr>\n",
       "  </thead>\n",
       "  <tbody>\n",
       "    <tr>\n",
       "      <th>0</th>\n",
       "      <td>1</td>\n",
       "      <td>130</td>\n",
       "      <td>120</td>\n",
       "    </tr>\n",
       "    <tr>\n",
       "      <th>1</th>\n",
       "      <td>2</td>\n",
       "      <td>142</td>\n",
       "      <td>135</td>\n",
       "    </tr>\n",
       "    <tr>\n",
       "      <th>2</th>\n",
       "      <td>3</td>\n",
       "      <td>120</td>\n",
       "      <td>118</td>\n",
       "    </tr>\n",
       "    <tr>\n",
       "      <th>3</th>\n",
       "      <td>4</td>\n",
       "      <td>135</td>\n",
       "      <td>127</td>\n",
       "    </tr>\n",
       "    <tr>\n",
       "      <th>4</th>\n",
       "      <td>5</td>\n",
       "      <td>148</td>\n",
       "      <td>140</td>\n",
       "    </tr>\n",
       "  </tbody>\n",
       "</table>\n",
       "</div>"
      ],
      "text/plain": [
       "   Patient ID   Blood Pressure Before (mmHg)   Blood Pressure After (mmHg)\n",
       "0           1                            130                           120\n",
       "1           2                            142                           135\n",
       "2           3                            120                           118\n",
       "3           4                            135                           127\n",
       "4           5                            148                           140"
      ]
     },
     "execution_count": 29,
     "metadata": {},
     "output_type": "execute_result"
    }
   ],
   "source": [
    "data.head()"
   ]
  },
  {
   "cell_type": "code",
   "execution_count": 30,
   "metadata": {},
   "outputs": [],
   "source": [
    "data['Change_in_BP']=data[' Blood Pressure Before (mmHg)']-data[' Blood Pressure After (mmHg)']"
   ]
  },
  {
   "cell_type": "code",
   "execution_count": 32,
   "metadata": {},
   "outputs": [
    {
     "name": "stdout",
     "output_type": "stream",
     "text": [
      "Test Statistic: 0.9538202285766602\n",
      "p-value: 0.0014939394313842058\n",
      "The change in blood pressure does not follow a normal distribution.\n"
     ]
    }
   ],
   "source": [
    "# Extract the column for the change in blood pressure\n",
    "change_in_bp = data['Change_in_BP']\n",
    "# Perform Shapiro-Wilk test\n",
    "stat, p_value = shapiro(change_in_bp)\n",
    "\n",
    "# Print the test statistic and p-value\n",
    "print(\"Test Statistic:\", stat)\n",
    "print(\"p-value:\", p_value)\n",
    "\n",
    "# Interpret the result\n",
    "if p_value > 0.05:\n",
    "    print(\"The change in blood pressure follows a normal distribution.\")\n",
    "else:\n",
    "    print(\"The change in blood pressure does not follow a normal distribution.\")"
   ]
  },
  {
   "cell_type": "markdown",
   "metadata": {},
   "source": [
    "Q-7. The equations of two lines of regression, obtained in a correlation analysis\n",
    "between variables X and Y are as follows:\n",
    "and . 2𝑋 + 3 − 8 = 0 2𝑌 + 𝑋 − 5 = 0 The variance of 𝑋 = 4 Find the\n",
    "a. Variance of Y\n",
    "b. Coefficient of determination of C and Y\n",
    "c. Standard error of estimate of X on Y and of Y on X."
   ]
  },
  {
   "cell_type": "markdown",
   "metadata": {},
   "source": [
    "Answer:\n",
    "a.The variance of X = 4\n",
    "In a simple linear regression, the variance of Y is proportional to the variance of X.To calculate the variance we need sample size,coefficient of determination (square of the correlation coefficient).So we cannot determine the variance of Y without the sample size.\n",
    "\n",
    "b.The coefficient of determination is calculated as the square of the correlation coefficient.As we are not provided with the correlation coefficient.So,we cannot calculate coefficient of determination of X & Y.\n",
    "\n",
    "c.The standard error of estimate represents the average distance between the observed values and the predicted values from the regression line.\n",
    "To calculate the standard error of estimate, we need the residual standard deviation (σ), which is calculated as the square root of the sum of squared residuals divided by (n-2), where n is the sample size.\n",
    "we are not provided with the residual values or the sample size, we cannot calculate the standard error of estimate for X on Y and Y on X.\n"
   ]
  },
  {
   "cell_type": "code",
   "execution_count": null,
   "metadata": {},
   "outputs": [],
   "source": [
    "Q-10. A factory produces light bulbs, and the probability of a bulb being defective is 0.05.\n",
    "The factory produces a large batch of 500 light bulbs.\n",
    "a. What is the probability that exactly 20 bulbs are defective?\n",
    "b. What is the probability that at least 10 bulbs are defective?\n",
    "c. What is the probability that at max 15 bulbs are defective?\n",
    "d. On average, how many defective bulbs would you expect in a batch of 500?"
   ]
  },
  {
   "cell_type": "markdown",
   "metadata": {},
   "source": [
    "Answer:\n",
    "We can use the binomial distribution formula:\n",
    "\n",
    "P(X = k) = C(n, k) * p^k * (1 - p)^(n - k)\n",
    "\n",
    "where:\n",
    "P(X = k) is the probability of exactly k successes\n",
    "n is the total number of trials\n",
    "k is the number of successful trials\n",
    "p is the probability of success in a single trial\n",
    "\n",
    "Given:\n",
    "n = 500 (total number of light bulbs)\n",
    "p = 0.05 (probability of a bulb being defective)\n",
    "q = 1 - p = 1 - 0.05 = 0.95 (probability of a bulb not being defective)\n",
    "\n",
    "a. What is the probability that exactly 20 bulbs are defective?\n",
    "P(X = 20) = C(500, 20) * 0.05^20 * 0.95^(500 - 20)\n",
    "\n",
    "b. What is the probability that at least 10 bulbs are defective?\n",
    "To find the probability of at least 10 bulbs being defective, we need to calculate the sum of probabilities for 10 or more defective bulbs:\n",
    "P(X >= 10) = P(X = 10) + P(X = 11) + ... + P(X = 500)\n",
    "\n",
    "c. What is the probability that at most 15 bulbs are defective?\n",
    "To find the probability of at most 15 bulbs being defective, we need to calculate the sum of probabilities for 15 or fewer defective bulbs:\n",
    "P(X <= 15) = P(X = 0) + P(X = 1) + ... + P(X = 15)\n",
    "\n",
    "d. On average, how many defective bulbs would you expect in a batch of 500?\n",
    "The expected value (mean) of a binomial distribution is given by:\n",
    "E(X) = n * p\n",
    "\n",
    "E(X) = 500 * 0.05\n",
    "\n"
   ]
  },
  {
   "cell_type": "markdown",
   "metadata": {},
   "source": [
    "Q-12. A pharmaceutical company develops a new drug and wants to compare its\n",
    "effectiveness against a standard drug for treating a particular condition. They conduct a\n",
    "study with two groups: Group A receives the new drug, and Group B receives the standard\n",
    "drug. The company measures the improvement in a specific symptom for both groups after\n",
    "a 4-week treatment period.\n",
    "a. The company collects data from 30 patients in each group and calculates the\n",
    "mean improvement score and the standard deviation of improvement for each\n",
    "group. The mean improvement score for Group A is 2.5 with a standard\n",
    "deviation of 0.8, while the mean improvement score for Group B is 2.2 with a\n",
    "standard deviation of 0.6. Conduct a t-test to determine if there is a significant\n",
    "difference in the mean improvement scores between the two groups. Use a\n",
    "significance level of 0.05.\n",
    "b. Based on the t-test results, state whether the null hypothesis should be\n",
    "rejected or not. Provide a conclusion in the context of the study"
   ]
  },
  {
   "cell_type": "markdown",
   "metadata": {},
   "source": [
    "Answer :\n",
    "Group A: mean improvement score = 2.5, standard deviation = 0.8, sample size = 30\n",
    "Group B: mean improvement score = 2.2, standard deviation = 0.6, sample size = 30\n",
    "    \n",
    "Step 1: Calculate the t-statistic using the given formula:\n",
    "t = (mean1 - mean2) / sqrt((s1^2 / n1) + (s2^2 / n2))\n",
    "\n",
    "mean1 = 2.5, mean2 = 2.2\n",
    "s1 = 0.8, s2 = 0.6\n",
    "n1 = n2 = 30\n",
    "\n",
    "t = (2.5 - 2.2) / sqrt((0.8^2 / 30) + (0.6^2 / 30))\n",
    "t= 1.6432876712328768\n",
    "significance level = 0.05\n",
    "Step 2: Determine the degrees of freedom:\n",
    "degrees of freedom = (n1+n2-2)\n",
    "                   =30 + 30 - 2 = 58\n",
    "    \n",
    "Step 3: Find the critical t-value at a significance level of 0.05 for a two-tailed test with 58 degrees of freedom. We can consult a t-table or use statistical software to find this value.   \n",
    " critical value ~= 2.000\n",
    " t-value = 1.64\n",
    " \n",
    " As t-value <  critical value, We fail to reject null hypothesis.\n",
    " \n",
    "We can suggest that there is not enough evidence to conclude a significant difference in the mean improvement scores between the two groups.\n"
   ]
  },
  {
   "cell_type": "code",
   "execution_count": null,
   "metadata": {},
   "outputs": [],
   "source": []
  }
 ],
 "metadata": {
  "kernelspec": {
   "display_name": "Python 3",
   "language": "python",
   "name": "python3"
  },
  "language_info": {
   "codemirror_mode": {
    "name": "ipython",
    "version": 3
   },
   "file_extension": ".py",
   "mimetype": "text/x-python",
   "name": "python",
   "nbconvert_exporter": "python",
   "pygments_lexer": "ipython3",
   "version": "3.8.5"
  }
 },
 "nbformat": 4,
 "nbformat_minor": 4
}
